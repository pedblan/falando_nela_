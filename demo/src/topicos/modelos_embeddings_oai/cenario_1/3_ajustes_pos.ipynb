{
 "cells": [
  {
   "metadata": {},
   "cell_type": "markdown",
   "source": "1. Carregar modelo",
   "id": "351e76c5aad22a78"
  },
  {
   "metadata": {
    "ExecuteTime": {
     "end_time": "2025-05-11T19:09:44.126826Z",
     "start_time": "2025-05-11T19:09:23.361897Z"
    }
   },
   "cell_type": "code",
   "source": [
    "import os\n",
    "from bertopic import BERTopic\n",
    "\n",
    "# Listar os arquivos no diretório atual e localizar o modelo que comece com \"baseline_model_\"\n",
    "model_file = None\n",
    "for file in os.listdir():\n",
    "    if file.startswith(\"baseline_model_\"):\n",
    "        model_file = file\n",
    "        break\n",
    "\n",
    "if model_file:\n",
    "    # Carregar o modelo BERTopic\n",
    "    topic_model = BERTopic.load(model_file)\n",
    "    print(f\"Modelo '{model_file}' carregado com sucesso!\")\n",
    "else:\n",
    "    print(\"Nenhum modelo encontrado no diretório atual que comece com 'baseline_model_'.\")\n"
   ],
   "id": "96fe3222a0db973e",
   "outputs": [
    {
     "name": "stdout",
     "output_type": "stream",
     "text": [
      "Modelo 'baseline_model_NormCombinado' carregado com sucesso!\n"
     ]
    }
   ],
   "execution_count": 4
  },
  {
   "metadata": {},
   "cell_type": "markdown",
   "source": "2. Inspecionando modelo",
   "id": "187eb9c849ffa1bc"
  },
  {
   "metadata": {
    "ExecuteTime": {
     "end_time": "2025-05-11T19:03:26.795533Z",
     "start_time": "2025-05-11T19:03:26.738068Z"
    }
   },
   "cell_type": "code",
   "source": "print(f\"Total de tópicos: {len(topic_model.get_topic_info())}\")\n",
   "id": "f81bdb4c2dd6f878",
   "outputs": [
    {
     "name": "stdout",
     "output_type": "stream",
     "text": [
      "Total de tópicos: 91\n"
     ]
    }
   ],
   "execution_count": 3
  },
  {
   "metadata": {},
   "cell_type": "markdown",
   "source": "3. Redução \"auto\"\n",
   "id": "81051642cfd7a498"
  },
  {
   "metadata": {
    "ExecuteTime": {
     "end_time": "2025-05-11T19:28:54.559108Z",
     "start_time": "2025-05-11T19:28:54.555560Z"
    }
   },
   "cell_type": "code",
   "source": "documents = topic_model.get_document_info  # Verifica se os documentos foram salvos\n",
   "id": "8117237938c644f4",
   "outputs": [],
   "execution_count": 7
  },
  {
   "metadata": {},
   "cell_type": "code",
   "outputs": [],
   "execution_count": null,
   "source": "topic_model.reduce_topics(docs, nr_topics=\"auto\")",
   "id": "f54ce07971127631"
  },
  {
   "metadata": {},
   "cell_type": "code",
   "outputs": [],
   "execution_count": null,
   "source": "",
   "id": "9fc31846121e609f"
  }
 ],
 "metadata": {
  "kernelspec": {
   "display_name": "Python 3",
   "language": "python",
   "name": "python3"
  },
  "language_info": {
   "codemirror_mode": {
    "name": "ipython",
    "version": 2
   },
   "file_extension": ".py",
   "mimetype": "text/x-python",
   "name": "python",
   "nbconvert_exporter": "python",
   "pygments_lexer": "ipython2",
   "version": "2.7.6"
  }
 },
 "nbformat": 4,
 "nbformat_minor": 5
}
