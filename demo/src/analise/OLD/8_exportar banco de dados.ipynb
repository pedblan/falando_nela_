{
 "nbformat": 4,
 "nbformat_minor": 0,
 "metadata": {
  "colab": {
   "provenance": [],
   "mount_file_id": "1iUXsiQH0kWpsIUYJxsb8Jr8cbdtYhmrv",
   "authorship_tag": "ABX9TyNzt4kHYVpVW8mn4tpdUT60"
  },
  "kernelspec": {
   "name": "python3",
   "display_name": "Python 3"
  },
  "language_info": {
   "name": "python"
  }
 },
 "cells": [
  {
   "cell_type": "code",
   "execution_count": 3,
   "metadata": {
    "colab": {
     "base_uri": "https://localhost:8080/"
    },
    "id": "eoROpPNWotQH",
    "executionInfo": {
     "status": "ok",
     "timestamp": 1741201435461,
     "user_tz": 180,
     "elapsed": 18049,
     "user": {
      "displayName": "Pedro Duarte",
      "userId": "06868061152891400465"
     }
    },
    "outputId": "d8b7d102-3c03-4dba-a07b-ea452e801ee8"
   },
   "outputs": [
    {
     "output_type": "stream",
     "name": "stdout",
     "text": [
      "Drive already mounted at /content/drive; to attempt to forcibly remount, call drive.mount(\"/content/drive\", force_remount=True).\n",
      "Current working directory (Colab): /content/drive/MyDrive/falando_nela_v2/src\n"
     ]
    }
   ],
   "source": [
    "import os\n",
    "\n",
    "try:\n",
    "  import google.colab\n",
    "  IN_COLAB = True\n",
    "except:\n",
    "  IN_COLAB = False\n",
    "\n",
    "if IN_COLAB:\n",
    "    from google.colab import drive\n",
    "    drive.mount('/content/drive')\n",
    "    os.chdir('/content/drive/MyDrive/falando_nela_v2/src')\n",
    "    print(\"Current working directory (Colab):\", os.getcwd())\n",
    "else:\n",
    "  print(\"Current working directory (not Colab):\", os.getcwd())\n",
    "\n",
    "DB_PATH = \"../data/DiscursosSenadores.sqlite\"\n"
   ]
  },
  {
   "cell_type": "code",
   "source": [
    "# prompt: Ver schema do banco de dados\n",
    "import sqlite3\n",
    "\n",
    "def show_db_schema(db_path):\n",
    "    try:\n",
    "        conn = sqlite3.connect(db_path)\n",
    "        cursor = conn.cursor()\n",
    "\n",
    "        cursor.execute(\"SELECT name FROM sqlite_master WHERE type='table';\")\n",
    "        tables = cursor.fetchall()\n",
    "\n",
    "        for table_name in tables:\n",
    "            table_name = table_name[0]\n",
    "            print(f\"\\nTable: {table_name}\")\n",
    "            cursor.execute(f\"PRAGMA table_info({table_name});\")\n",
    "            columns = cursor.fetchall()\n",
    "            for col in columns:\n",
    "                print(f\"  Column: {col[1]} ({col[2]})\")  # name and type\n",
    "\n",
    "        conn.close()\n",
    "\n",
    "    except sqlite3.Error as e:\n",
    "        print(f\"Error accessing database: {e}\")\n",
    "\n",
    "show_db_schema(DB_PATH)\n"
   ],
   "metadata": {
    "colab": {
     "base_uri": "https://localhost:8080/"
    },
    "id": "UNpgwrdKp5C_",
    "executionInfo": {
     "status": "ok",
     "timestamp": 1741186686788,
     "user_tz": 180,
     "elapsed": 24,
     "user": {
      "displayName": "Pedro Duarte",
      "userId": "06868061152891400465"
     }
    },
    "outputId": "216f77d1-396c-472f-dc76-0e8e1a592f6c"
   },
   "execution_count": null,
   "outputs": [
    {
     "output_type": "stream",
     "name": "stdout",
     "text": [
      "\n",
      "Table: Senadores\n",
      "  Column: CodigoParlamentar (INTEGER)\n",
      "  Column: NomeParlamentar (TEXT)\n",
      "  Column: NomeCompletoParlamentar (TEXT)\n",
      "  Column: SexoParlamentar (TEXT)\n",
      "  Column: SiglaPartidoParlamentar (TEXT)\n",
      "  Column: UfParlamentar (TEXT)\n",
      "  Column: UrlFotoParlamentar (TEXT)\n",
      "  Column: EmailParlamentar (TEXT)\n",
      "  Column: NomeProfissao (TEXT)\n",
      "  Column: IndicadorAtividadePrincipal (TEXT)\n",
      "\n",
      "Table: sqlite_sequence\n",
      "  Column: name ()\n",
      "  Column: seq ()\n",
      "\n",
      "Table: SenadoresCargos\n",
      "  Column: IdCargo (INTEGER)\n",
      "  Column: CodigoParlamentar (INTEGER)\n",
      "  Column: NomeCargo (TEXT)\n",
      "  Column: DataInicio (TEXT)\n",
      "  Column: DataFim (TEXT)\n",
      "  Column: Orgao (TEXT)\n",
      "\n",
      "Table: SenadoresHistoricoAcademico\n",
      "  Column: IdHistoricoAcademico (INTEGER)\n",
      "  Column: CodigoParlamentar (INTEGER)\n",
      "  Column: NomeCurso (TEXT)\n",
      "  Column: NivelCurso (TEXT)\n",
      "  Column: InstituicaoEnsino (TEXT)\n",
      "  Column: AnoConclusao (TEXT)\n",
      "\n",
      "Table: DiscursosAparteantes\n",
      "  Column: Id (INTEGER)\n",
      "  Column: CodigoPronunciamento (INTEGER)\n",
      "  Column: CodigoParlamentar (INTEGER)\n",
      "  Column: NomeAparteante (TEXT)\n",
      "\n",
      "Table: DiscursosPublicacoes\n",
      "  Column: Id (INTEGER)\n",
      "  Column: CodigoPronunciamento (INTEGER)\n",
      "  Column: DescricaoVeiculoPublicacao (TEXT)\n",
      "  Column: DataPublicacao (DATE)\n",
      "  Column: UrlDiario (TEXT)\n",
      "\n",
      "Table: DiscursosSessoes\n",
      "  Column: CodigoSessao (INTEGER)\n",
      "  Column: CodigoPronunciamento (INTEGER)\n",
      "  Column: NomeCasaSessao (TEXT)\n",
      "  Column: DataSessao (DATE)\n",
      "  Column: HoraInicioSessao (TIME)\n",
      "\n",
      "Table: SenadoresLiderancas\n",
      "  Column: IdLideranca (INTEGER)\n",
      "  Column: CodigoParlamentar (INTEGER)\n",
      "  Column: UnidadeLideranca (TEXT)\n",
      "  Column: DescricaoTipoLideranca (TEXT)\n",
      "  Column: DataInicio (TEXT)\n",
      "  Column: DataFim (TEXT)\n",
      "\n",
      "Table: SenadoresComissoes\n",
      "  Column: IdComissao (INTEGER)\n",
      "  Column: CodigoParlamentar (INTEGER)\n",
      "  Column: SiglaComissao (TEXT)\n",
      "  Column: NomeComissao (TEXT)\n",
      "  Column: DescricaoParticipacao (TEXT)\n",
      "  Column: DataInicio (TEXT)\n",
      "  Column: DataFim (TEXT)\n",
      "\n",
      "Table: SenadoresFiliacoes\n",
      "  Column: IdFiliacao (INTEGER)\n",
      "  Column: CodigoParlamentar (INTEGER)\n",
      "  Column: SiglaPartido (TEXT)\n",
      "  Column: NomePartido (TEXT)\n",
      "  Column: DataFiliacao (TEXT)\n",
      "\n",
      "Table: Discursos\n",
      "  Column: CodigoPronunciamento (INTEGER)\n",
      "  Column: CodigoParlamentar (INTEGER)\n",
      "  Column: DataPronunciamento (DATE)\n",
      "  Column: TextoResumo (TEXT)\n",
      "  Column: TipoUsoPalavra (TEXT)\n",
      "  Column: UrlTexto (TEXT)\n",
      "  Column: Indexacao (TEXT)\n",
      "  Column: SiglaPartidoParlamentarNaData (TEXT)\n",
      "  Column: UfParlamentarNaData (TEXT)\n",
      "  Column: SiglaCasaPronunciamento (TEXT)\n",
      "  Column: Forma (TEXT)\n",
      "  Column: CaminhoArquivo (TEXT)\n",
      "  Column: DownloadConcluido (INTEGER)\n",
      "  Column: TextoIntegral (TEXT)\n",
      "\n",
      "Table: DiscursosAnalises\n",
      "  Column: CodigoPronunciamento (INTEGER)\n",
      "  Column: BM25_Constituição (REAL)\n",
      "  Column: TFIDF_Constituição (REAL)\n",
      "  Column: SentimentoGeral (TEXT)\n",
      "  Column: SentimentoConstituicao (TEXT)\n",
      "  Column: SumarioConstituicao (TEXT)\n",
      "  Column: TrechosConstituicao (TEXT)\n",
      "  Column: NovaConstituinteOuConstituicao_resposta (TEXT)\n",
      "  Column: NovaConstituinteOuConstituicao_trecho (TEXT)\n",
      "  Column: TopicosConstituicao (TEXT)\n",
      "\n",
      "Table: DiscursosPesquisa\n",
      "  Column: CodigoPronunciamento (INTEGER)\n",
      "  Column: Similaridade_base_democracia (REAL)\n",
      "  Column: Similaridade_ultrapassada (REAL)\n",
      "  Column: Similaridade_prejudica_economia (REAL)\n",
      "  Column: Similaridade_direitos_demais (REAL)\n",
      "  Column: Similaridade_nova_constituinte (REAL)\n",
      "  Column: Similaridade_ffaa_poder_moderador (REAL)\n",
      "  Column: Similaridade_voltar_ditadura (REAL)\n",
      "  Column: Similaridade_governo_nao_respeita (REAL)\n",
      "  Column: Similaridade_camara_nao_respeita (REAL)\n",
      "  Column: Similaridade_supremo_nao_respeita (REAL)\n",
      "  Column: Similaridade_ninguem_respeita (REAL)\n"
     ]
    }
   ]
  },
  {
   "cell_type": "code",
   "source": [
    "# prompt: Ver head de DiscursosAnalises, coluna TopicosConstituicao\n",
    "\n",
    "import sqlite3\n",
    "import pandas as pd\n",
    "\n",
    "DB_PATH = \"../data/DiscursosSenadores.sqlite\"\n",
    "\n",
    "def ver_head_topicos(db_path, n=5):\n",
    "    try:\n",
    "        conn = sqlite3.connect(db_path)\n",
    "        query = \"SELECT TopicosConstituicao FROM DiscursosAnalises LIMIT ?\"\n",
    "        df = pd.read_sql_query(query, conn, params=[n])\n",
    "        conn.close()\n",
    "        return df\n",
    "    except sqlite3.Error as e:\n",
    "        print(f\"Error accessing database: {e}\")\n",
    "        return None\n",
    "\n",
    "df_topicos = print(ver_head_topicos(DB_PATH))\n",
    "\n"
   ],
   "metadata": {
    "colab": {
     "base_uri": "https://localhost:8080/"
    },
    "id": "02-GviK1y8V3",
    "executionInfo": {
     "status": "ok",
     "timestamp": 1741186699916,
     "user_tz": 180,
     "elapsed": 10,
     "user": {
      "displayName": "Pedro Duarte",
      "userId": "06868061152891400465"
     }
    },
    "outputId": "8c43f9bf-6ff0-4590-88b9-76bc9e067252"
   },
   "execution_count": null,
   "outputs": [
    {
     "output_type": "stream",
     "name": "stdout",
     "text": [
      "  TopicosConstituicao\n",
      "0                None\n",
      "1                  19\n",
      "2                None\n",
      "3                   3\n",
      "4                None\n"
     ]
    }
   ]
  },
  {
   "cell_type": "code",
   "source": [
    "!pip install xlsxwriter\n",
    "# prompt: Quero exportar para xlsx as seguintes tabelas e colunas:\n",
    "# Senadores:\n",
    "#   Column: CodigoParlamentar (INTEGER)\n",
    "#   Column: NomeParlamentar (TEXT)\n",
    "#   Column: UfParlamentar (TEXT)\n",
    "# Table: Discursos\n",
    "#   Column: CodigoPronunciamento (INTEGER)\n",
    "#   Column: CodigoParlamentar (INTEGER)\n",
    "#   Column: DataPronunciamento (DATE)\n",
    "#   Column: TextoResumo (TEXT)\n",
    "#   Column: Indexacao (TEXT)\n",
    "#   Column: SiglaPartidoParlamentarNaData (TEXT)\n",
    "#   Column: UfParlamentarNaData (TEXT)\n",
    "#   Column: SiglaCasaPronunciamento (TEXT)\n",
    "#   Column: Forma (TEXT)\n",
    "#   Column: TextoIntegral (TEXT)\n",
    "# Table: DiscursosAnalises\n",
    "#   Column: CodigoPronunciamento (INTEGER)\n",
    "#   Column: BM25_Constituição (REAL)\n",
    "#   Column: TFIDF_Constituição (REAL)\n",
    "#   Column: SentimentoGeral (TEXT)\n",
    "#   Column: SentimentoConstituicao (TEXT)\n",
    "#   Column: SumarioConstituicao (TEXT)\n",
    "#   Column: TrechosConstituicao (TEXT)\n",
    "#   Column: NovaConstituinteOuConstituicao_resposta (TEXT)\n",
    "#   Column: NovaConstituinteOuConstituicao_trecho (TEXT)\n",
    "#   Column: TopicosConstituicao (TEXT)\n",
    "# Table: DiscursosPesquisa\n",
    "#   Column: CodigoPronunciamento (INTEGER)\n",
    "#   Column: Similaridade_base_democracia (REAL)\n",
    "#   Column: Similaridade_ultrapassada (REAL)\n",
    "#   Column: Similaridade_prejudica_economia (REAL)\n",
    "#   Column: Similaridade_direitos_demais (REAL)\n",
    "#   Column: Similaridade_nova_constituinte (REAL)\n",
    "#   Column: Similaridade_governo_nao_respeita (REAL)\n",
    "#   Column: Similaridade_camara_nao_respeita (REAL)\n",
    "#   Column: Similaridade_supremo_nao_respeita (REAL)\n",
    "#   Column: Similaridade_ninguem_respeita (REAL)\n",
    "\n",
    "import pandas as pd\n",
    "import sqlite3\n",
    "\n",
    "DB_PATH = \"../data/DiscursosSenadores.sqlite\"\n",
    "\n",
    "def export_to_excel(db_path, output_file=\"falando_nela_1.xlsx\"):\n",
    "    try:\n",
    "        conn = sqlite3.connect(db_path)\n",
    "\n",
    "        # Senadores\n",
    "        senadores_df = pd.read_sql_query(\"SELECT CodigoParlamentar, NomeParlamentar, UfParlamentar FROM Senadores\", conn)\n",
    "\n",
    "        # Discursos\n",
    "        discursos_df = pd.read_sql_query(\"SELECT CodigoPronunciamento, CodigoParlamentar, DataPronunciamento, TextoResumo, Indexacao, SiglaPartidoParlamentarNaData, UfParlamentarNaData, SiglaCasaPronunciamento, Forma, TextoIntegral FROM Discursos\", conn)\n",
    "\n",
    "        # DiscursosAnalises\n",
    "        discursos_analises_df = pd.read_sql_query(\"SELECT CodigoPronunciamento, BM25_Constituição, TFIDF_Constituição, SentimentoGeral, SentimentoConstituicao, SumarioConstituicao, TrechosConstituicao, NovaConstituinteOuConstituicao_resposta, NovaConstituinteOuConstituicao_trecho, TopicosConstituicao FROM DiscursosAnalises\", conn)\n",
    "\n",
    "        # DiscursosPesquisa\n",
    "        discursos_pesquisa_df = pd.read_sql_query(\"SELECT CodigoPronunciamento, Similaridade_base_democracia, Similaridade_ultrapassada, Similaridade_prejudica_economia, Similaridade_direitos_demais, Similaridade_nova_constituinte, Similaridade_governo_nao_respeita, Similaridade_camara_nao_respeita, Similaridade_supremo_nao_respeita, Similaridade_ninguem_respeita FROM DiscursosPesquisa\", conn)\n",
    "\n",
    "        with pd.ExcelWriter(output_file, engine='xlsxwriter') as writer:\n",
    "            senadores_df.to_excel(writer, sheet_name=\"Senadores\", index=False)\n",
    "            discursos_df.to_excel(writer, sheet_name=\"Discursos\", index=False)\n",
    "            discursos_analises_df.to_excel(writer, sheet_name=\"DiscursosAnalises\", index=False)\n",
    "            discursos_pesquisa_df.to_excel(writer, sheet_name=\"DiscursosPesquisa\", index=False)\n",
    "\n",
    "        print(f\"Data exported to {output_file}\")\n",
    "        conn.close()\n",
    "    except sqlite3.Error as e:\n",
    "        print(f\"Error accessing database: {e}\")\n",
    "    except Exception as e:\n",
    "        print(f\"An error occurred: {e}\")\n",
    "\n",
    "export_to_excel(DB_PATH)\n"
   ],
   "metadata": {
    "colab": {
     "base_uri": "https://localhost:8080/"
    },
    "id": "wNQesgRxqOht",
    "executionInfo": {
     "status": "ok",
     "timestamp": 1741202138417,
     "user_tz": 180,
     "elapsed": 697248,
     "user": {
      "displayName": "Pedro Duarte",
      "userId": "06868061152891400465"
     }
    },
    "outputId": "1a23af57-95e0-42d6-96fe-db8543d138f9"
   },
   "execution_count": 4,
   "outputs": [
    {
     "output_type": "stream",
     "name": "stdout",
     "text": [
      "Requirement already satisfied: xlsxwriter in /usr/local/lib/python3.11/dist-packages (3.2.2)\n",
      "Data exported to banco_para_analise.xlsx\n"
     ]
    }
   ]
  }
 ]
}
