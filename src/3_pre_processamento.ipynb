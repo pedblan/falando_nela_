{
 "cells": [
  {
   "metadata": {
    "id": "80adf51f13ef531b"
   },
   "cell_type": "markdown",
   "source": [
    "### 1. Conexão ao banco de dados ###"
   ],
   "id": "80adf51f13ef531b"
  },
  {
   "cell_type": "code",
   "id": "initial_id",
   "metadata": {
    "collapsed": true,
    "colab": {
     "base_uri": "https://localhost:8080/"
    },
    "id": "initial_id",
    "executionInfo": {
     "status": "ok",
     "timestamp": 1740743129632,
     "user_tz": 180,
     "elapsed": 21421,
     "user": {
      "displayName": "Pedro Duarte",
      "userId": "06868061152891400465"
     }
    },
    "outputId": "cbc19809-b1e6-47ee-c14d-40aefed969ee",
    "ExecuteTime": {
     "end_time": "2025-05-13T22:25:05.568771Z",
     "start_time": "2025-05-13T22:25:05.536428Z"
    }
   },
   "source": [
    "import sqlite3\n",
    "import pandas as pd\n",
    "import os\n",
    "\n",
    "DB_PATH = \"./DiscursosSenadores_02_05_2025_analisado.sqlite\"\n",
    "conn = sqlite3.connect(DB_PATH)"
   ],
   "outputs": [],
   "execution_count": 6
  },
  {
   "metadata": {
    "id": "f7b232bee0d0e085"
   },
   "cell_type": "markdown",
   "source": [
    "### 2. Pré-processamento dos textos ###\n"
   ],
   "id": "f7b232bee0d0e085"
  },
  {
   "metadata": {
    "id": "1025265c072f64f2"
   },
   "cell_type": "markdown",
   "source": [
    "- remoção da palavra \"Constituição\" usada no jargão de processo legislativo e uniformização ortográfica\n",
    "- alterações salvas no SQL"
   ],
   "id": "1025265c072f64f2"
  },
  {
   "metadata": {
    "id": "3acd43c6da201cf",
    "executionInfo": {
     "status": "ok",
     "timestamp": 1740743461477,
     "user_tz": 180,
     "elapsed": 328584,
     "user": {
      "displayName": "Pedro Duarte",
      "userId": "06868061152891400465"
     }
    },
    "ExecuteTime": {
     "end_time": "2025-05-13T22:25:11.964027Z",
     "start_time": "2025-05-13T22:25:07.472466Z"
    }
   },
   "cell_type": "code",
   "source": [
    "from filtros import filtros\n",
    "substituicoes = {\n",
    "         \"Proposta de Emenda à Constituição\": \"PEC\",\n",
    "         \"Comissão de Constituição e Justiça\": \"CCJ\",\n",
    "         \"Comissão de Constituição, Justiça e Cidadania\": \"CCJ da Câmara\",\n",
    "    \" da Câmara da Câmara \": \" da Câmara\",\n",
    "    \"***PEC***\": \"PEC\"\n",
    "\n",
    "     }\n",
    "\n",
    "filtros.substituir_expressoes(conn, \"Discursos\", \"TextoIntegral\", substituicoes)"
   ],
   "id": "3acd43c6da201cf",
   "outputs": [],
   "execution_count": 7
  },
  {
   "metadata": {
    "id": "c5c16b566cfc5013"
   },
   "cell_type": "markdown",
   "source": "### 3. Seleção dos discursos – 2007 a 2024 ###",
   "id": "c5c16b566cfc5013"
  },
  {
   "metadata": {
    "id": "4c54c76b992e9b5b",
    "executionInfo": {
     "status": "ok",
     "timestamp": 1740743493978,
     "user_tz": 180,
     "elapsed": 32494,
     "user": {
      "displayName": "Pedro Duarte",
      "userId": "06868061152891400465"
     }
    },
    "ExecuteTime": {
     "end_time": "2025-05-13T22:25:13.168136Z",
     "start_time": "2025-05-13T22:25:13.105724Z"
    }
   },
   "cell_type": "code",
   "source": [
    "conn.execute(\"DELETE FROM Discursos WHERE DataPronunciamento < '2007-01-01' OR DataPronunciamento > '2024-12-31'\")\n",
    "conn.commit()"
   ],
   "id": "4c54c76b992e9b5b",
   "outputs": [],
   "execution_count": 8
  }
 ],
 "metadata": {
  "kernelspec": {
   "display_name": "Python 3",
   "language": "python",
   "name": "python3"
  },
  "language_info": {
   "codemirror_mode": {
    "name": "ipython",
    "version": 2
   },
   "file_extension": ".py",
   "mimetype": "text/x-python",
   "name": "python",
   "nbconvert_exporter": "python",
   "pygments_lexer": "ipython2",
   "version": "2.7.6"
  },
  "colab": {
   "provenance": []
  }
 },
 "nbformat": 4,
 "nbformat_minor": 5
}
