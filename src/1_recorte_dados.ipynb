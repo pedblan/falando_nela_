{
 "cells": [
  {
   "metadata": {},
   "cell_type": "markdown",
   "source": "1. Recorte das tabelas pertinentes do banco de dados",
   "id": "b47bcc33de7778cb"
  },
  {
   "metadata": {
    "ExecuteTime": {
     "end_time": "2025-05-05T22:13:49.395121Z",
     "start_time": "2025-05-05T22:13:45.077474Z"
    }
   },
   "cell_type": "code",
   "source": [
    "import sqlite3\n",
    "\n",
    "# Caminho do banco de dados original\n",
    "original_db_path = \"../data/DiscursosSenadores_02_05_2025.sqlite\"\n",
    "# Caminho do novo banco de dados\n",
    "new_db_path = \"./DiscursosSenadores_02_05_2025_analisado.sqlite\"\n",
    "\n",
    "# Conectar ao banco de dados original\n",
    "orig_conn = sqlite3.connect(original_db_path)\n",
    "orig_cursor = orig_conn.cursor()\n",
    "\n",
    "# Conectar ao novo banco de dados (será criado se não existir)\n",
    "new_conn = sqlite3.connect(new_db_path)\n",
    "new_cursor = new_conn.cursor()\n",
    "\n",
    "# Lista das tabelas a serem copiadas\n",
    "tables_to_copy = [\"Discursos\", \"Senadores\"]\n",
    "\n",
    "\n",
    "# Função para criar e copiar tabelas específicas\n",
    "def copy_table(cursor, new_cursor, table_name):\n",
    "    # Obter schema da tabela\n",
    "    cursor.execute(f\"SELECT sql FROM sqlite_master WHERE type='table' AND name='{table_name}';\")\n",
    "    create_table_sql = cursor.fetchone()[0]\n",
    "\n",
    "    # Criar a tabela no novo banco de dados\n",
    "    new_cursor.execute(create_table_sql)\n",
    "\n",
    "    # Copiar dados\n",
    "    cursor.execute(f\"SELECT * FROM {table_name}\")\n",
    "    rows = cursor.fetchall()\n",
    "\n",
    "    # Identificar colunas da tabela\n",
    "    cursor.execute(f\"PRAGMA table_info({table_name});\")\n",
    "    columns = [col[1] for col in cursor.fetchall()]\n",
    "    placeholders = \", \".join([\"?\"] * len(columns))\n",
    "    new_cursor.executemany(\n",
    "        f\"INSERT INTO {table_name} ({', '.join(columns)}) VALUES ({placeholders})\", rows\n",
    "    )\n",
    "\n",
    "\n",
    "# Processar cada tabela\n",
    "for table in tables_to_copy:\n",
    "    copy_table(orig_cursor, new_cursor, table)\n",
    "\n",
    "# Commit e fechar conexões\n",
    "new_conn.commit()\n",
    "orig_conn.close()\n",
    "new_conn.close()\n",
    "\n",
    "print(f\"Novo banco de dados criado em: {new_db_path}\")\n"
   ],
   "id": "179a8a0a975a87ae",
   "outputs": [
    {
     "name": "stdout",
     "output_type": "stream",
     "text": [
      "Novo banco de dados criado em: ./DiscursosSenadores_02_05_2025_analisado.sqlite\n"
     ]
    }
   ],
   "execution_count": 2
  },
  {
   "metadata": {},
   "cell_type": "code",
   "outputs": [],
   "execution_count": null,
   "source": "",
   "id": "4110e20430075b8a"
  }
 ],
 "metadata": {
  "kernelspec": {
   "display_name": "Python 3",
   "language": "python",
   "name": "python3"
  },
  "language_info": {
   "codemirror_mode": {
    "name": "ipython",
    "version": 2
   },
   "file_extension": ".py",
   "mimetype": "text/x-python",
   "name": "python",
   "nbconvert_exporter": "python",
   "pygments_lexer": "ipython2",
   "version": "2.7.6"
  }
 },
 "nbformat": 4,
 "nbformat_minor": 5
}
