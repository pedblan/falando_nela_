{
 "cells": [
  {
   "metadata": {
    "id": "80adf51f13ef531b"
   },
   "cell_type": "markdown",
   "source": [
    "### 1. Conexão ao banco de dados ###"
   ],
   "id": "80adf51f13ef531b"
  },
  {
   "cell_type": "code",
   "id": "initial_id",
   "metadata": {
    "collapsed": true,
    "colab": {
     "base_uri": "https://localhost:8080/"
    },
    "id": "initial_id",
    "executionInfo": {
     "status": "ok",
     "timestamp": 1740743129632,
     "user_tz": 180,
     "elapsed": 21421,
     "user": {
      "displayName": "Pedro Duarte",
      "userId": "06868061152891400465"
     }
    },
    "outputId": "cbc19809-b1e6-47ee-c14d-40aefed969ee",
    "ExecuteTime": {
     "end_time": "2025-05-08T12:04:36.105742Z",
     "start_time": "2025-05-08T12:04:35.694543Z"
    }
   },
   "source": [
    "import sqlite3\n",
    "import pandas as pd\n",
    "import os\n",
    "\n",
    "DB_PATH = \"src/DiscursosSenadores_02_05_2025_analisado.sqlite\"\n",
    "conn = sqlite3.connect(DB_PATH)"
   ],
   "outputs": [
    {
     "ename": "OperationalError",
     "evalue": "unable to open database file",
     "output_type": "error",
     "traceback": [
      "\u001B[31m---------------------------------------------------------------------------\u001B[39m",
      "\u001B[31mOperationalError\u001B[39m                          Traceback (most recent call last)",
      "\u001B[36mCell\u001B[39m\u001B[36m \u001B[39m\u001B[32mIn[1]\u001B[39m\u001B[32m, line 6\u001B[39m\n\u001B[32m      3\u001B[39m \u001B[38;5;28;01mimport\u001B[39;00m\u001B[38;5;250m \u001B[39m\u001B[34;01mos\u001B[39;00m\n\u001B[32m      5\u001B[39m DB_PATH = \u001B[33m\"\u001B[39m\u001B[33msrc/DiscursosSenadores_02_05_2025_analisado.sqlite\u001B[39m\u001B[33m\"\u001B[39m\n\u001B[32m----> \u001B[39m\u001B[32m6\u001B[39m conn = \u001B[43msqlite3\u001B[49m\u001B[43m.\u001B[49m\u001B[43mconnect\u001B[49m\u001B[43m(\u001B[49m\u001B[43mDB_PATH\u001B[49m\u001B[43m)\u001B[49m\n",
      "\u001B[31mOperationalError\u001B[39m: unable to open database file"
     ]
    }
   ],
   "execution_count": 1
  },
  {
   "metadata": {
    "id": "f7b232bee0d0e085"
   },
   "cell_type": "markdown",
   "source": [
    "### 2. Pré-processamento dos textos ###\n"
   ],
   "id": "f7b232bee0d0e085"
  },
  {
   "metadata": {
    "id": "1025265c072f64f2"
   },
   "cell_type": "markdown",
   "source": [
    "- remoção da palavra \"Constituição\" usada no jargão de processo legislativo e uniformização ortográfica\n",
    "- alterações salvas no SQL"
   ],
   "id": "1025265c072f64f2"
  },
  {
   "metadata": {
    "ExecuteTime": {
     "end_time": "2025-02-26T13:18:57.865028Z",
     "start_time": "2025-02-26T13:18:57.691401Z"
    },
    "id": "3acd43c6da201cf",
    "executionInfo": {
     "status": "ok",
     "timestamp": 1740743461477,
     "user_tz": 180,
     "elapsed": 328584,
     "user": {
      "displayName": "Pedro Duarte",
      "userId": "06868061152891400465"
     }
    }
   },
   "cell_type": "code",
   "source": [
    "from filtros import filtros\n",
    "substituicoes = {\n",
    "         \"Proposta de Emenda à Constituição\": \"PEC\",\n",
    "         \"Comissão de Constituição e Justiça\": \"CCJ\",\n",
    "         \"Comissão de Constituição, Justiça e Cidadania\": \"CCJ da Câmara\",\n",
    "    \" da Câmara da Câmara \": \" da Câmara\"\n",
    "\n",
    "     }\n",
    "\n",
    "filtros.substituir_expressoes(conn, \"Discursos\", \"TextoIntegral\", substituicoes)"
   ],
   "id": "3acd43c6da201cf",
   "outputs": [],
   "execution_count": 4
  },
  {
   "metadata": {},
   "cell_type": "code",
   "outputs": [],
   "execution_count": null,
   "source": [
    "from filtros import filtros\n",
    "substituicoes = {\n",
    "         \"Proposta de Emenda à Constituição\": \"PEC\",\n",
    "         \"Comissão de Constituição e Justiça\": \"CCJ\",\n",
    "         \"Comissão de Constituição, Justiça e Cidadania\": \"CCJ da Câmara\",\n",
    "        \"***PEC***\": \"PEC\",\n",
    "    \" da Câmara da Câmara \": \" da Câmara \"\n",
    "\n",
    "     }\n",
    "\n",
    "filtros.substituir_expressoes(conn, \"Discursos\", \"TextoResumo\", substituicoes)"
   ],
   "id": "355943938ece0e2e"
  },
  {
   "metadata": {
    "id": "c5c16b566cfc5013"
   },
   "cell_type": "markdown",
   "source": [
    "### 3. Seleção dos discursos – 2007 em diante ###"
   ],
   "id": "c5c16b566cfc5013"
  },
  {
   "metadata": {
    "ExecuteTime": {
     "end_time": "2025-02-26T13:18:59.727227Z",
     "start_time": "2025-02-26T13:18:59.718680Z"
    },
    "id": "4c54c76b992e9b5b",
    "executionInfo": {
     "status": "ok",
     "timestamp": 1740743493978,
     "user_tz": 180,
     "elapsed": 32494,
     "user": {
      "displayName": "Pedro Duarte",
      "userId": "06868061152891400465"
     }
    }
   },
   "cell_type": "code",
   "source": [
    "conn.execute(\"DELETE FROM Discursos WHERE DataPronunciamento <= '2007-01-31'\")\n",
    "conn.commit()"
   ],
   "id": "4c54c76b992e9b5b",
   "outputs": [],
   "execution_count": 5
  },
  {
   "metadata": {},
   "cell_type": "markdown",
   "source": "### 4. Seleção dos discursos – excluir pareceres de plenário ###\n",
   "id": "d7debad6435cf419"
  },
  {
   "metadata": {},
   "cell_type": "code",
   "outputs": [],
   "execution_count": null,
   "source": "",
   "id": "179155e6c2d60000"
  }
 ],
 "metadata": {
  "kernelspec": {
   "display_name": "Python 3",
   "language": "python",
   "name": "python3"
  },
  "language_info": {
   "codemirror_mode": {
    "name": "ipython",
    "version": 2
   },
   "file_extension": ".py",
   "mimetype": "text/x-python",
   "name": "python",
   "nbconvert_exporter": "python",
   "pygments_lexer": "ipython2",
   "version": "2.7.6"
  },
  "colab": {
   "provenance": []
  }
 },
 "nbformat": 4,
 "nbformat_minor": 5
}
